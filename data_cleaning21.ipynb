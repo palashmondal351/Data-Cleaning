{
 "cells": [
  {
   "cell_type": "code",
   "execution_count": 9,
   "metadata": {},
   "outputs": [],
   "source": [
    "import PyPDF2"
   ]
  },
  {
   "cell_type": "code",
   "execution_count": 10,
   "metadata": {},
   "outputs": [],
   "source": [
    "# ATTENTION PLEASE: this code is verifyed with pdf here you will check for both pdf abcd.pdf and abcde.pdf\n",
    "filepath = 'C:/Users/Dell/Desktop/abcd.pdf'"
   ]
  },
  {
   "cell_type": "code",
   "execution_count": 11,
   "metadata": {},
   "outputs": [
    {
     "name": "stderr",
     "output_type": "stream",
     "text": [
      "WARNING:root:Literal required: begin\n",
      "WARNING:root:Literal required: begin\n",
      "WARNING:root:Unknown operator: 'Qq'\n"
     ]
    },
    {
     "name": "stdout",
     "output_type": "stream",
     "text": [
      "['International Journal on Natural Language Computing (IJNLC) Vol. 2, No.2, April 2013\\n\\nNERHMM: A TOOL FOR NAMED ENTITY\\nRECOGNITION BASED ON HIDDEN MARKOV\\nMODEL\\n\\nSudha Morwal and Deepti Chopra\\n\\n1Department of Computer Engineering, Banasthali Vidyapith, Jaipur (Raj.), INDIA\\n\\nABSTRACT\\n\\nsudha_morwal@yahoo.co.in\\n\\ndeeptichopra11@yahoo.co.in\\n\\nNamed Entity Recognition (NER) is considered as one of\\nthe key task in the field of Information Retrieval.\\nNER is the method of recognizing Named Entities (NEs) in a corpus and then organizing these NEs into\\ndiverse classes of NEs e.g. Name of Location, Person, Organization, Quantity, Time, Percentage etc.\\nToday, there is a great need to develop a tool for NER, since the existing tools are of\\nlimited scope. In this\\npaper, we would discuss the functionality and features of our tool of NER with some experimental results.\\n\\nKEYWORDS\\n\\nHMM, NER, F-Measure, Accuracy, NEs\\n\\n1. INTRODUCTION\\n\\nNamed Entity Recognition is the process that involves finding the NEs in a corpus and then be\\nable to distinguish them into various classes of NEs such as person, location, organizat ion, time,\\nriver, sport, vehicle, country, state, quantity, number, time etc. The various applications of NER\\nare: Question Answering, \\nInformation \\nExtraction, Automatic \\nSummarization, Machine\\nTranslation, Information Retrieval etc. [8][11]\\n\\nThere are many challenges that have to be dealt with while performing Named Entity Recognition\\nin Indian languages. Indian languages lack in proper resources, so before performing Named\\nEntity Recognition in Indian languages, we have to carry out the task of Corpus development\\nwhich include doing annotation on the raw text, preparing Gazetteer etc. Indian languages are free\\nword order,\\ninflectional and morphologically rich\\nin nature. In Indian \\nlanguages, \\nthere are\\nnumerous named entities that also exist as common nouns in the dictionary.\\n\\n2. RELATED WORK\\n\\nNatural language toolkit\\n(NLTK) is a free and open source computational linguistic tool. Apart\\nfrom Named Entity Recognition, this tool can be used for performing tokenization, classification,\\nstemming, parsing,\\ntagging etc. NLTK provides support in carrying out research in areas like\\nlinguistic, artificial intelligence, machine learning, information retrieval etc.[21]\\n\\nScikit-learn also known as Scikits.learn is an open source machine learning tool.\\nimplements the algorithms of Hidden Markov Model. [22]\\n\\nIt efficiently\\n\\nDOI : 10.5121/ijnlc.2013.2204\\n\\n43\\n\\n\\x0c']\n"
     ]
    }
   ],
   "source": [
    "import slate3k as slate\n",
    "with open(filepath,'rb') as f:\n",
    "    extracted_text = slate.PDF(f)\n",
    "\n",
    "print(extracted_text)"
   ]
  },
  {
   "cell_type": "code",
   "execution_count": 13,
   "metadata": {},
   "outputs": [],
   "source": [
    "# convert to lower case\n",
    "extracted_text = [w.lower() for w in extracted_text]"
   ]
  },
  {
   "cell_type": "code",
   "execution_count": 14,
   "metadata": {},
   "outputs": [],
   "source": [
    "words=str(extracted_text) # re support only string or byte type data"
   ]
  },
  {
   "cell_type": "code",
   "execution_count": 15,
   "metadata": {},
   "outputs": [
    {
     "name": "stdout",
     "output_type": "stream",
     "text": [
      "['international journal on natural language computing (ijnlc) vol. 2, no.2, april 2013  nerhmm: a tool for named entity recognition based on hidden markov model  sudha morwal and deepti chopra  1department of computer engineering, banasthali vidyapith, jaipur (raj.), india  abstract  sudha_morwal@yahoo.co.in  deeptichopra11@yahoo.co.in  named entity recognition (ner) is considered as one of the key task in the field of information retrieval. ner is the method of recognizing named entities (nes) in a corpus and then organizing these nes into diverse classes of nes e.g. name of location, person, organization, quantity, time, percentage etc. today, there is a great need to develop a tool for ner, since the existing tools are of limited scope. in this paper, we would discuss the functionality and features of our tool of ner with some experimental results.  keywords  hmm, ner, f-measure, accuracy, nes  1. introduction  named entity recognition is the process that involves finding the nes in a corpus and then be able to distinguish them into various classes of nes such as person, location, organizat ion, time, river, sport, vehicle, country, state, quantity, number, time etc. the various applications of ner are: question answering,  information  extraction, automatic  summarization, machine translation, information retrieval etc. [8][11]  there are many challenges that have to be dealt with while performing named entity recognition in indian languages. indian languages lack in proper resources, so before performing named entity recognition in indian languages, we have to carry out the task of corpus development which include doing annotation on the raw text, preparing gazetteer etc. indian languages are free word order, inflectional and morphologically rich in nature. in indian  languages,  there are numerous named entities that also exist as common nouns in the dictionary.  2. related work  natural language toolkit (nltk) is a free and open source computational linguistic tool. apart from named entity recognition, this tool can be used for performing tokenization, classification, stemming, parsing, tagging etc. nltk provides support in carrying out research in areas like linguistic, artificial intelligence, machine learning, information retrieval etc.[21]  scikit-learn also known as scikits.learn is an open source machine learning tool. implements the algorithms of hidden markov model. [22]  it efficiently  doi : 10.5121/ijnlc.2013.2204  43  \\x0c']\n"
     ]
    }
   ],
   "source": [
    "#extracted_text = 'cold, cold heart'\n",
    "k=str(words.replace('\\\\n', ' '))\n",
    "print (k)\n",
    "k=str(k)"
   ]
  },
  {
   "cell_type": "code",
   "execution_count": 16,
   "metadata": {},
   "outputs": [
    {
     "name": "stdout",
     "output_type": "stream",
     "text": [
      "international journal on natural language computing ijnlc vol 2 no2 april 2013  nerhmm a tool for named entity recognition based on hidden markov model  sudha morwal and deepti chopra  1department of computer engineering banasthali vidyapith jaipur raj india  abstract  sudhamorwalyahoocoin  deeptichopra11yahoocoin  named entity recognition ner is considered as one of the key task in the field of information retrieval ner is the method of recognizing named entities nes in a corpus and then organizing these nes into diverse classes of nes eg name of location person organization quantity time percentage etc today there is a great need to develop a tool for ner since the existing tools are of limited scope in this paper we would discuss the functionality and features of our tool of ner with some experimental results  keywords  hmm ner fmeasure accuracy nes  1 introduction  named entity recognition is the process that involves finding the nes in a corpus and then be able to distinguish them into various classes of nes such as person location organizat ion time river sport vehicle country state quantity number time etc the various applications of ner are question answering  information  extraction automatic  summarization machine translation information retrieval etc 811  there are many challenges that have to be dealt with while performing named entity recognition in indian languages indian languages lack in proper resources so before performing named entity recognition in indian languages we have to carry out the task of corpus development which include doing annotation on the raw text preparing gazetteer etc indian languages are free word order inflectional and morphologically rich in nature in indian  languages  there are numerous named entities that also exist as common nouns in the dictionary  2 related work  natural language toolkit nltk is a free and open source computational linguistic tool apart from named entity recognition this tool can be used for performing tokenization classification stemming parsing tagging etc nltk provides support in carrying out research in areas like linguistic artificial intelligence machine learning information retrieval etc21  scikitlearn also known as scikitslearn is an open source machine learning tool implements the algorithms of hidden markov model 22  it efficiently  doi  105121ijnlc20132204  43  x0c\n"
     ]
    }
   ],
   "source": [
    "import string\n",
    "for c in string.punctuation:\n",
    "     k= k.replace(c,\"\")\n",
    "print(k)"
   ]
  },
  {
   "cell_type": "code",
   "execution_count": 17,
   "metadata": {},
   "outputs": [
    {
     "data": {
      "text/plain": [
       "'international journal   natural language computing ijnlc vol 2 no2 april 2013  nerhmm   tool   named entity recognition based   hidden markov model  sudha morwal   deepti chopra  1department   computer engineering banasthali vidyapith jaipur raj india  abstract  sudhamorwalyahoocoin  deeptichopra11yahoocoin  named entity recognition ner   considered         key task     field   information retrieval ner     method   recognizing named entities nes     corpus     organizing these nes   diverse classes   nes eg name   location person organization quantity time percentage  today       great need   develop   tool   ner     existing tools     limited scope     paper   would discuss   functionality   features     tool   ner   some experimental results  keywords  hmm ner fmeasure accuracy nes  1 introduction  named entity recognition     process   involves finding   nes     corpus       able   distinguish them   various classes   nes     person location organizat ion time river sport vehicle country state quantity number time    various applications   ner   question answering  information  extraction automatic  summarization machine translation information retrieval  811      many challenges         dealt     performing named entity recognition   indian languages indian languages lack   proper resources     performing named entity recognition   indian languages       carry     task   corpus development which include doing annotation     raw text preparing gazetteer  indian languages   free word order inflectional   morphologically rich   nature   indian  languages      numerous named entities     exist   common nouns     dictionary  2 related work  natural language toolkit nltk     free     source computational linguistic tool apart   named entity recognition   tool     used   performing tokenization classification stemming parsing tagging  nltk provides support   carrying   research   areas   linguistic artificial intelligence machine learning information retrieval etc21  scikitlearn   known   scikitslearn       source machine learning tool implements   algorithms   hidden markov model 22    efficiently  doi  105121ijnlc20132204  43  x0c'"
      ]
     },
     "execution_count": 17,
     "metadata": {},
     "output_type": "execute_result"
    }
   ],
   "source": [
    "# Removing of article and preposition .................. i manually added those preposition if any preposition is missind please add neither informe me.\n",
    "import re\n",
    "rx = re.compile(r'\\ban\\b|\\bthe\\b|\\band\\b|\\ba\\b|\\bof\\b|\\bwith\\b|\\bat\\b|\\bfrom\\b|\\binto\\b|\\bduring\\b|\\bincluding\\b|\\buntil\\b|\\bto\\b|\\bin\\b|\\bfor\\b|\\bon\\b|\\bby\\b|\\babout\\b|\\blike\\b|\\bthrough\\b|\\bover\\b|\\bbefore\\b|\\bbetween\\b|\\bafter\\b|\\bsince\\b|\\bwithout\\b|\\bunder\\b|\\bbut\\b|\\bup\\b|\\baround\\b|\\bis\\b|\\ba\\b|\\bout\\b|\\bas\\b|\\balso\\b|\\bare\\b|\\be.g.\\b|\\betc.\\b|\\bour\\b|\\bi\\b|\\bwe\\b|\\bupon\\b|\\bdown\\b|\\boff\\b|\\babove\\b|\\bwithout\\b|\\bthis\\b|\\bhave\\b|\\bhas\\b|\\bthen\\b|\\bthat\\b|\\bsuch\\b|\\bso\\b|\\bone\\b|\\bit\\b|\\bthen\\b|\\bthere\\b|\\bbe\\b|\\bwhile\\b|\\bopen\\b|\\bcan\\b')\n",
    "rx.sub(' ',k)"
   ]
  }
 ],
 "metadata": {
  "kernelspec": {
   "display_name": "Python 3",
   "language": "python",
   "name": "python3"
  },
  "language_info": {
   "codemirror_mode": {
    "name": "ipython",
    "version": 3
   },
   "file_extension": ".py",
   "mimetype": "text/x-python",
   "name": "python",
   "nbconvert_exporter": "python",
   "pygments_lexer": "ipython3",
   "version": "3.7.0"
  }
 },
 "nbformat": 4,
 "nbformat_minor": 2
}
